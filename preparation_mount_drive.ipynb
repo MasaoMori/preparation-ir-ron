{
  "cells": [
    {
      "cell_type": "code",
      "execution_count": null,
      "metadata": {
        "id": "OC5R7wJcB61Y",
        "tags": []
      },
      "outputs": [],
      "source": [
        "import pandas as pd\n",
        "\n",
        "sample_file = \"https://www.irds.titech.ac.jp/wp-content/uploads/2021/05/sample.xlsx\"\n",
        "\n",
        "dpt = pd.read_excel(sample_file, sheet_name='学科マスタ', engine=\"openpyxl\", dtype={'学科コード':str})"
      ]
    },
    {
      "cell_type": "code",
      "source": [
        "dpt"
      ],
      "metadata": {
        "id": "Cu7MgbUNWTE2"
      },
      "execution_count": null,
      "outputs": []
    }
  ],
  "metadata": {
    "colab": {
      "provenance": []
    },
    "kernelspec": {
      "display_name": "Python 3 (ipykernel)",
      "language": "python",
      "name": "python3"
    },
    "language_info": {
      "codemirror_mode": {
        "name": "ipython",
        "version": 3
      },
      "file_extension": ".py",
      "mimetype": "text/x-python",
      "name": "python",
      "nbconvert_exporter": "python",
      "pygments_lexer": "ipython3",
      "version": "3.8.16"
    }
  },
  "nbformat": 4,
  "nbformat_minor": 0
}